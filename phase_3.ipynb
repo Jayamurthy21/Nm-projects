{
  "nbformat": 4,
  "nbformat_minor": 0,
  "metadata": {
    "colab": {
      "provenance": [],
      "authorship_tag": "ABX9TyM22WW7nSbPT0KSmDnig8dE",
      "include_colab_link": true
    },
    "kernelspec": {
      "name": "python3",
      "display_name": "Python 3"
    },
    "language_info": {
      "name": "python"
    }
  },
  "cells": [
    {
      "cell_type": "markdown",
      "metadata": {
        "id": "view-in-github",
        "colab_type": "text"
      },
      "source": [
        "<a href=\"https://colab.research.google.com/github/Jayamurthy21/Nm-projects/blob/main/phase_3.ipynb\" target=\"_parent\"><img src=\"https://colab.research.google.com/assets/colab-badge.svg\" alt=\"Open In Colab\"/></a>"
      ]
    },
    {
      "cell_type": "code",
      "execution_count": 3,
      "metadata": {
        "colab": {
          "base_uri": "https://localhost:8080/",
          "height": 193
        },
        "id": "kqIYpjYDtBba",
        "outputId": "f85acaa9-b739-499a-ae86-bcb395e3330b"
      },
      "outputs": [
        {
          "output_type": "error",
          "ename": "NameError",
          "evalue": "name '_name_' is not defined",
          "traceback": [
            "\u001b[0;31m---------------------------------------------------------------------------\u001b[0m",
            "\u001b[0;31mNameError\u001b[0m                                 Traceback (most recent call last)",
            "\u001b[0;32m<ipython-input-3-3e2470c4599f>\u001b[0m in \u001b[0;36m<cell line: 0>\u001b[0;34m()\u001b[0m\n\u001b[1;32m     48\u001b[0m     \u001b[0mdisplay_recommendations\u001b[0m\u001b[0;34m(\u001b[0m\u001b[0mrecommended_movies\u001b[0m\u001b[0;34m)\u001b[0m\u001b[0;34m\u001b[0m\u001b[0;34m\u001b[0m\u001b[0m\n\u001b[1;32m     49\u001b[0m \u001b[0;34m\u001b[0m\u001b[0m\n\u001b[0;32m---> 50\u001b[0;31m \u001b[0;32mif\u001b[0m \u001b[0m_name_\u001b[0m \u001b[0;34m==\u001b[0m \u001b[0;34m\"_main_\"\u001b[0m\u001b[0;34m:\u001b[0m\u001b[0;34m\u001b[0m\u001b[0;34m\u001b[0m\u001b[0m\n\u001b[0m\u001b[1;32m     51\u001b[0m     \u001b[0mmain\u001b[0m\u001b[0;34m(\u001b[0m\u001b[0;34m)\u001b[0m\u001b[0;34m\u001b[0m\u001b[0;34m\u001b[0m\u001b[0m\n",
            "\u001b[0;31mNameError\u001b[0m: name '_name_' is not defined"
          ]
        }
      ],
      "source": [
        "# Sample movie database (can be expanded)\n",
        "movies = [\n",
        "    {\"title\": \"Inception\", \"genre\": \"Sci-Fi\", \"rating\": 8.8, \"year\": 2010},\n",
        "    {\"title\": \"The Dark Knight\", \"genre\": \"Action\", \"rating\": 9.0, \"year\": 2008},\n",
        "    {\"title\": \"Interstellar\", \"genre\": \"Sci-Fi\", \"rating\": 8.6, \"year\": 2014},\n",
        "    {\"title\": \"The Matrix\", \"genre\": \"Sci-Fi\", \"rating\": 8.7, \"year\": 1999},\n",
        "    {\"title\": \"The Godfather\", \"genre\": \"Crime\", \"rating\": 9.2, \"year\": 1972},\n",
        "    {\"title\": \"Pulp Fiction\", \"genre\": \"Crime\", \"rating\": 8.9, \"year\": 1994},\n",
        "    {\"title\": \"Titanic\", \"genre\": \"Romance\", \"rating\": 7.8, \"year\": 1997},\n",
        "    {\"title\": \"The Shawshank Redemption\", \"genre\": \"Drama\", \"rating\": 9.3, \"year\": 1994},\n",
        "    {\"title\": \"Forrest Gump\", \"genre\": \"Drama\", \"rating\": 8.8, \"year\": 1994},\n",
        "    {\"title\": \"The Avengers\", \"genre\": \"Action\", \"rating\": 8.0, \"year\": 2012},\n",
        "    {\"title\": \"Avatar\", \"genre\": \"Sci-Fi\", \"rating\": 7.8, \"year\": 2009}\n",
        "]\n",
        "\n",
        "# Function to ask for user preferences\n",
        "def get_user_preferences():\n",
        "    print(\"Welcome to the Movie Recommender System!\")\n",
        "    preferred_genre = input(\"Enter your preferred genre (e.g., Sci-Fi, Action, Drama, etc.): \").capitalize()\n",
        "    min_rating = float(input(\"Enter your minimum acceptable movie rating (1-10): \"))\n",
        "\n",
        "    return preferred_genre, min_rating\n",
        "\n",
        "# Function to recommend movies based on preferences\n",
        "def recommend_movies(preferred_genre, min_rating):\n",
        "    recommended_movies = []\n",
        "\n",
        "    # Loop through the movie list and apply filters\n",
        "    for movie in movies:\n",
        "        if movie[\"genre\"] == preferred_genre and movie[\"rating\"] >= min_rating:\n",
        "            recommended_movies.append(movie)\n",
        "\n",
        "    return recommended_movies\n",
        "\n",
        "# Function to display recommended movies\n",
        "def display_recommendations(recommended_movies):\n",
        "    if not recommended_movies:\n",
        "        print(\"Sorry, no movies found that match your preferences.\")\n",
        "    else:\n",
        "        print(\"\\nHere are your personalized movie recommendations:\")\n",
        "        for movie in recommended_movies:\n",
        "            print(f\"- {movie['title']} ({movie['year']}) - Rating: {movie['rating']}/10\")\n",
        "\n",
        "# Main function that ties everything together\n",
        "def main():\n",
        "    preferred_genre, min_rating = get_user_preferences()\n",
        "    recommended_movies = recommend_movies(preferred_genre, min_rating)\n",
        "    display_recommendations(recommended_movies)\n",
        "\n",
        "if _name_ == \"_main_\":\n",
        "    main()"
      ]
    },
    {
      "cell_type": "code",
      "source": [
        "# Sample movie database (can be expanded)\n",
        "movies = [\n",
        "    {\"title\": \"Inception\", \"genre\": \"Sci-Fi\", \"rating\": 8.8, \"year\": 2010},\n",
        "    {\"title\": \"The Dark Knight\", \"genre\": \"Action\", \"rating\": 9.0, \"year\": 2008},\n",
        "    {\"title\": \"Interstellar\", \"genre\": \"Sci-Fi\", \"rating\": 8.6, \"year\": 2014},\n",
        "    {\"title\": \"The Matrix\", \"genre\": \"Sci-Fi\", \"rating\": 8.7, \"year\": 1999},\n",
        "    {\"title\": \"The Godfather\", \"genre\": \"Crime\", \"rating\": 9.2, \"year\": 1972},\n",
        "    {\"title\": \"Pulp Fiction\", \"genre\": \"Crime\", \"rating\": 8.9, \"year\": 1994},\n",
        "    {\"title\": \"Titanic\", \"genre\": \"Romance\", \"rating\": 7.8, \"year\": 1997},\n",
        "    {\"title\": \"The Shawshank Redemption\", \"genre\": \"Drama\", \"rating\": 9.3, \"year\": 1994},\n",
        "    {\"title\": \"Forrest Gump\", \"genre\": \"Drama\", \"rating\": 8.8, \"year\": 1994},\n",
        "    {\"title\": \"The Avengers\", \"genre\": \"Action\", \"rating\": 8.0, \"year\": 2012},\n",
        "    {\"title\": \"Avatar\", \"genre\": \"Sci-Fi\", \"rating\": 7.8, \"year\": 2009}\n",
        "]\n",
        "\n",
        "# Function to ask for user preferences\n",
        "def get_user_preferences():\n",
        "    print(\"Welcome to the Movie Recommender System!\")\n",
        "    preferred_genre = input(\"Enter your preferred genre (e.g., Sci-Fi, Action, Drama, etc.): \").capitalize()\n",
        "    min_rating = float(input(\"Enter your minimum acceptable movie rating (1-10): \"))\n",
        "\n",
        "    return preferred_genre, min_rating\n",
        "\n",
        "# Function to recommend movies based on preferences\n",
        "def recommend_movies(preferred_genre, min_rating):\n",
        "    recommended_movies = []\n",
        "\n",
        "    # Loop through the movie list and apply filters\n",
        "    for movie in movies:\n",
        "        if movie[\"genre\"] == preferred_genre and movie[\"rating\"] >= min_rating:\n",
        "            recommended_movies.append(movie)\n",
        "\n",
        "    return recommended_movies\n",
        "\n",
        "# Function to display recommended movies\n",
        "def display_recommendations(recommended_movies):\n",
        "    if not recommended_movies:\n",
        "        print(\"Sorry, no movies found that match your preferences.\")\n",
        "    else:\n",
        "        print(\"\\nHere are your personalized movie recommendations:\")\n",
        "        for movie in recommended_movies:\n",
        "            print(f\"- {movie['title']} ({movie['year']}) - Rating: {movie['rating']}/10\")\n",
        "\n",
        "# Main function that ties everything together\n",
        "def main():\n",
        "    preferred_genre, min_rating = get_user_preferences()\n",
        "    recommended_movies = recommend_movies(preferred_genre, min_rating)\n",
        "    display_recommendations(recommended_movies)\n",
        "\n",
        "# Fix: Changed '_name_' to '__name__'\n",
        "if __name__ == \"__main__\":\n",
        "    main()"
      ],
      "metadata": {
        "colab": {
          "base_uri": "https://localhost:8080/"
        },
        "id": "8nOpUPuJvF2w",
        "outputId": "cde5821e-45d0-488e-c095-0966ef644ce2"
      },
      "execution_count": null,
      "outputs": [
        {
          "output_type": "stream",
          "name": "stdout",
          "text": [
            "Welcome to the Movie Recommender System!\n"
          ]
        }
      ]
    }
  ]
}